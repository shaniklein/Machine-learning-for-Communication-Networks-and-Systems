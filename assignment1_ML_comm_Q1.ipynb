{
  "nbformat": 4,
  "nbformat_minor": 0,
  "metadata": {
    "colab": {
      "name": "assignment1_ML_comm-Q1.ipynb",
      "provenance": [],
      "collapsed_sections": [],
      "toc_visible": true,
      "include_colab_link": true
    },
    "kernelspec": {
      "name": "python3",
      "display_name": "Python 3"
    }
  },
  "cells": [
    {
      "cell_type": "markdown",
      "metadata": {
        "id": "view-in-github",
        "colab_type": "text"
      },
      "source": [
        "<a href=\"https://colab.research.google.com/github/shaniklein/Machine-learning-for-Communication-Networks-and-Systems/blob/main/assignment1_ML_comm_Q1.ipynb\" target=\"_parent\"><img src=\"https://colab.research.google.com/assets/colab-badge.svg\" alt=\"Open In Colab\"/></a>"
      ]
    },
    {
      "cell_type": "markdown",
      "metadata": {
        "id": "gpzj90oD__lN"
      },
      "source": [
        "# Exercise 1 - Machine learning for Communication Networks and Systems\n",
        "###By Shani Klein 205781909\n",
        "This is my code for Exercise 1 in the course Machine learning for Communication Networks and Systems in BGU university\n",
        "\n",
        "We were given a set of rules in a file. Each row describe a different rule. The structure of the a rule is as follows (the @ sign is the first character of each rule): @SourceIP/sourceMask DestinationIP/destinationMask sourcePort destinationPort protocol The file is given in a TSV format .\n",
        "\n",
        "\n"
      ]
    },
    {
      "cell_type": "markdown",
      "metadata": {
        "id": "rVYFOGwH1cUi"
      },
      "source": [
        "# Question number 1"
      ]
    },
    {
      "cell_type": "markdown",
      "metadata": {
        "id": "I7iNMKHlJa-F"
      },
      "source": [
        "# Getting The Data: \n",
        "In this section I upload the file \"rule01.tsv\" which contains set of rules for \n",
        "the assignment. \n",
        "if You choose to run this code on your computer:\n",
        "*   Before you run the code below, ensure you have downloaded the file to your computer.\n",
        "*   When prompted, browse to the file's location on your computer and upload the file.\n",
        "\n",
        "Warning: The file upload function will only show the file selection dialog for 30 seconds. After that time it will close and cause an error because a file was not specified. This timeout prevents the file dialog from blocking events in Colab. If you experience this timeout select the dataset file sooner. It may help to move the dataset file to an easier to specify location such as your desktop.\n",
        "\n"
      ]
    },
    {
      "cell_type": "code",
      "metadata": {
        "id": "UtsmZTmC6qcS",
        "colab": {
          "resources": {
            "http://localhost:8080/nbextensions/google.colab/files.js": {
              "data": "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",
              "ok": true,
              "headers": [
                [
                  "content-type",
                  "application/javascript"
                ]
              ],
              "status": 200,
              "status_text": ""
            }
          },
          "base_uri": "https://localhost:8080/",
          "height": 92
        },
        "outputId": "eee251f3-ca51-424b-8877-aae0737500f9"
      },
      "source": [
        "from google.colab import files\n",
        "uploaded = files.upload()\n",
        "rules = next(iter(uploaded.keys()))\n",
        "print('User uploaded file \"{name}\" with length {length} bytes'.format(\n",
        "      name=rules, length=len(uploaded[rules])))\n"
      ],
      "execution_count": null,
      "outputs": [
        {
          "output_type": "display_data",
          "data": {
            "text/html": [
              "\n",
              "     <input type=\"file\" id=\"files-a176ccf8-9206-4bd2-bb33-c77d29cb2a61\" name=\"files[]\" multiple disabled />\n",
              "     <output id=\"result-a176ccf8-9206-4bd2-bb33-c77d29cb2a61\">\n",
              "      Upload widget is only available when the cell has been executed in the\n",
              "      current browser session. Please rerun this cell to enable.\n",
              "      </output>\n",
              "      <script src=\"/nbextensions/google.colab/files.js\"></script> "
            ],
            "text/plain": [
              "<IPython.core.display.HTML object>"
            ]
          },
          "metadata": {
            "tags": []
          }
        },
        {
          "output_type": "stream",
          "text": [
            "Saving rule01.tsv to rule01.tsv\n",
            "User uploaded file \"rule01.tsv\" with length 47001 bytes\n"
          ],
          "name": "stdout"
        }
      ]
    },
    {
      "cell_type": "markdown",
      "metadata": {
        "id": "ZB5lKQLmF-dm"
      },
      "source": [
        "## Load the data into a pandas dataframe\n",
        "I chose to work with pandas dataframe , because it let's us easily review and manipulate the data. \n",
        "In addition , we've been told in class that we are only interested in the Sorcse IP , Destenation IP and the corresponding number of wildcards so this is the data I collected from the file of rules"
      ]
    },
    {
      "cell_type": "code",
      "metadata": {
        "id": "zveOHSXBItTU"
      },
      "source": [
        "import pandas as pd\n",
        "import math \n",
        "import numpy as np\n",
        "# read the tsv data\n",
        "# data = pd.read_csv(\"rule01.tsv\", header=None)\n",
        "data = pd.read_csv(rules, header=None) \n",
        "# data manipulation to remain only with the columns we want which are  SrcIP, DstIP and number of important bits\n",
        "data=data[0].str.split(\"/\", n = 2, expand = True)\n",
        "bit=data[2].str.split(\" \", n = 2, expand = True)\n",
        "bit=bit[0]\n",
        "newdata=data[1].str.split(\" \", n = 2, expand = True)\n",
        "data[1]=newdata[0]\n",
        "data[2]=newdata[1]\n",
        "data[3]=bit\n",
        "newdata=data[0].str.split(\"@\", n = 2, expand = True)\n",
        "data[0]=newdata[1]"
      ],
      "execution_count": null,
      "outputs": []
    },
    {
      "cell_type": "markdown",
      "metadata": {
        "id": "QC9Ygn0jynyW"
      },
      "source": [
        "## Visualize the rules data\n",
        "This will give us an understanding of the data we are working with."
      ]
    },
    {
      "cell_type": "code",
      "metadata": {
        "id": "YtdGnno4zBeT",
        "colab": {
          "base_uri": "https://localhost:8080/",
          "height": 399
        },
        "outputId": "f6ec69d0-7b92-4be0-d723-e42f3027b11d"
      },
      "source": [
        "# Visualize the dataset\n",
        "# turn on option to display all columns, otherwise some columns may be hidden\n",
        "pd.set_option('display.max_columns', None)  \n",
        "# print the column names and first 200 rows of data so we can see the important bits is not always 32 bits\n",
        "data.head(210)"
      ],
      "execution_count": null,
      "outputs": [
        {
          "output_type": "execute_result",
          "data": {
            "text/html": [
              "<div>\n",
              "<style scoped>\n",
              "    .dataframe tbody tr th:only-of-type {\n",
              "        vertical-align: middle;\n",
              "    }\n",
              "\n",
              "    .dataframe tbody tr th {\n",
              "        vertical-align: top;\n",
              "    }\n",
              "\n",
              "    .dataframe thead th {\n",
              "        text-align: right;\n",
              "    }\n",
              "</style>\n",
              "<table border=\"1\" class=\"dataframe\">\n",
              "  <thead>\n",
              "    <tr style=\"text-align: right;\">\n",
              "      <th></th>\n",
              "      <th>0</th>\n",
              "      <th>1</th>\n",
              "      <th>2</th>\n",
              "      <th>3</th>\n",
              "    </tr>\n",
              "  </thead>\n",
              "  <tbody>\n",
              "    <tr>\n",
              "      <th>0</th>\n",
              "      <td>180.171.147.187</td>\n",
              "      <td>32</td>\n",
              "      <td>83.167.110.154</td>\n",
              "      <td>32</td>\n",
              "    </tr>\n",
              "    <tr>\n",
              "      <th>1</th>\n",
              "      <td>180.171.147.161</td>\n",
              "      <td>32</td>\n",
              "      <td>86.109.168.32</td>\n",
              "      <td>32</td>\n",
              "    </tr>\n",
              "    <tr>\n",
              "      <th>2</th>\n",
              "      <td>180.171.147.254</td>\n",
              "      <td>32</td>\n",
              "      <td>85.199.42.4</td>\n",
              "      <td>32</td>\n",
              "    </tr>\n",
              "    <tr>\n",
              "      <th>3</th>\n",
              "      <td>180.171.147.63</td>\n",
              "      <td>32</td>\n",
              "      <td>25.178.135.86</td>\n",
              "      <td>32</td>\n",
              "    </tr>\n",
              "    <tr>\n",
              "      <th>4</th>\n",
              "      <td>180.171.147.89</td>\n",
              "      <td>32</td>\n",
              "      <td>25.184.48.239</td>\n",
              "      <td>32</td>\n",
              "    </tr>\n",
              "    <tr>\n",
              "      <th>...</th>\n",
              "      <td>...</td>\n",
              "      <td>...</td>\n",
              "      <td>...</td>\n",
              "      <td>...</td>\n",
              "    </tr>\n",
              "    <tr>\n",
              "      <th>205</th>\n",
              "      <td>85.52.83.70</td>\n",
              "      <td>31</td>\n",
              "      <td>199.45.140.2</td>\n",
              "      <td>32</td>\n",
              "    </tr>\n",
              "    <tr>\n",
              "      <th>206</th>\n",
              "      <td>85.52.83.112</td>\n",
              "      <td>31</td>\n",
              "      <td>199.45.140.2</td>\n",
              "      <td>32</td>\n",
              "    </tr>\n",
              "    <tr>\n",
              "      <th>207</th>\n",
              "      <td>85.52.83.98</td>\n",
              "      <td>31</td>\n",
              "      <td>25.184.48.129</td>\n",
              "      <td>32</td>\n",
              "    </tr>\n",
              "    <tr>\n",
              "      <th>208</th>\n",
              "      <td>85.52.83.98</td>\n",
              "      <td>31</td>\n",
              "      <td>199.39.63.180</td>\n",
              "      <td>32</td>\n",
              "    </tr>\n",
              "    <tr>\n",
              "      <th>209</th>\n",
              "      <td>85.52.83.98</td>\n",
              "      <td>31</td>\n",
              "      <td>199.39.63.181</td>\n",
              "      <td>32</td>\n",
              "    </tr>\n",
              "  </tbody>\n",
              "</table>\n",
              "<p>210 rows × 4 columns</p>\n",
              "</div>"
            ],
            "text/plain": [
              "                   0   1               2   3\n",
              "0    180.171.147.187  32  83.167.110.154  32\n",
              "1    180.171.147.161  32   86.109.168.32  32\n",
              "2    180.171.147.254  32     85.199.42.4  32\n",
              "3     180.171.147.63  32   25.178.135.86  32\n",
              "4     180.171.147.89  32   25.184.48.239  32\n",
              "..               ...  ..             ...  ..\n",
              "205      85.52.83.70  31    199.45.140.2  32\n",
              "206     85.52.83.112  31    199.45.140.2  32\n",
              "207      85.52.83.98  31   25.184.48.129  32\n",
              "208      85.52.83.98  31   199.39.63.180  32\n",
              "209      85.52.83.98  31   199.39.63.181  32\n",
              "\n",
              "[210 rows x 4 columns]"
            ]
          },
          "metadata": {
            "tags": []
          },
          "execution_count": 2
        }
      ]
    },
    {
      "cell_type": "markdown",
      "metadata": {
        "id": "ctXOKIqts1lR"
      },
      "source": [
        "## Convert SrcIP and DstIP to be represented in Bits\n",
        "As we can see in the Visualization of the data, the IPs are reprsented in the form we know, but we want to convert the IPs to be represented as bits to build our tree, in addition we would like to would like to work with an array of 64 bits for each rule (which contains both source and destination IP."
      ]
    },
    {
      "cell_type": "code",
      "metadata": {
        "id": "FzBu2t6ZteM_"
      },
      "source": [
        "#define an helper method to convert each IP adress to be representes in bits\n",
        "def ip2bin(ip):\n",
        "  # first- get rid of the dots in the ip address\n",
        "    octets = map(int, ip.split('/')[0].split('.')) # '1.2.3.4'=>[1, 2, 3, 4]\n",
        "    binary = '{0:08b}{1:08b}{2:08b}{3:08b}'.format(*octets)\n",
        "    range = int(ip.split('/')[1]) if '/' in ip else None\n",
        "    return binary[:range] if range else binary"
      ],
      "execution_count": null,
      "outputs": []
    },
    {
      "cell_type": "code",
      "metadata": {
        "id": "7MiCH9GNWPII"
      },
      "source": [
        "def find_wild_card(ip_in_bits,mask):\n",
        "  for i in range(32):\n",
        "    if i>=int(mask):\n",
        "      ip_in_bits=list(ip_in_bits)\n",
        "      ip_in_bits[i]='*'\n",
        "      result=str()\n",
        "      for bit in ip_in_bits:\n",
        "        result+=bit\n",
        "      ip_in_bits=result\n",
        "  return ip_in_bits"
      ],
      "execution_count": null,
      "outputs": []
    },
    {
      "cell_type": "code",
      "metadata": {
        "id": "Nb__eYZgLjSH"
      },
      "source": [
        "# convert source IP to be represented as 32 bits\n",
        "data[0] = data[0].apply(lambda x:ip2bin(x))\n",
        "# put '*' on wild cards\n",
        "for i in range(len(data[0])):\n",
        "  data[0][i]=find_wild_card(data[0][i],data[1][i])\n",
        "\n",
        "# same procedure for destip\n",
        "data[2]= data[2].apply(lambda x:ip2bin(x))\n",
        "for i in range(len(data[2])):\n",
        "  data[2][i]=find_wild_card(data[2][i],data[2][i])\n",
        "\n",
        "# concate source IP and dest IP to be one array of 64 bits\n",
        "data[0]=data[0]+data[2]\n",
        "# we have reduntent column so we drop it from the data\n",
        "data=data.drop(data.columns[2], axis=1)\n",
        "data[4] = np.arange(len(data))\n",
        "# # we add relevent headers to data so it will be easier to access each column\n",
        "data.columns= [\"IP\", \"s_wildCard\", \"d_wildCard\",\"rule_number\"]\n"
      ],
      "execution_count": null,
      "outputs": []
    },
    {
      "cell_type": "markdown",
      "metadata": {
        "id": "pCHyoo0cJd6a"
      },
      "source": [
        "## Visualize the rules data in Binary representaion\n",
        "let's look how our data is looks right now."
      ]
    },
    {
      "cell_type": "code",
      "metadata": {
        "id": "UcouWgZVNmmo",
        "colab": {
          "base_uri": "https://localhost:8080/",
          "height": 399
        },
        "outputId": "70e99860-1e6a-492b-b74d-ed4c05fe631a"
      },
      "source": [
        "# Visualize the dataset\n",
        "# turn on option to display all columns, otherwise some columns may be hidden\n",
        "pd.set_option('display.max_columns', None)  \n",
        "# print the column names and first 210 rows of data\n",
        "data.head(720)"
      ],
      "execution_count": null,
      "outputs": [
        {
          "output_type": "execute_result",
          "data": {
            "text/html": [
              "<div>\n",
              "<style scoped>\n",
              "    .dataframe tbody tr th:only-of-type {\n",
              "        vertical-align: middle;\n",
              "    }\n",
              "\n",
              "    .dataframe tbody tr th {\n",
              "        vertical-align: top;\n",
              "    }\n",
              "\n",
              "    .dataframe thead th {\n",
              "        text-align: right;\n",
              "    }\n",
              "</style>\n",
              "<table border=\"1\" class=\"dataframe\">\n",
              "  <thead>\n",
              "    <tr style=\"text-align: right;\">\n",
              "      <th></th>\n",
              "      <th>IP</th>\n",
              "      <th>s_wildCard</th>\n",
              "      <th>d_wildCard</th>\n",
              "      <th>rule_number</th>\n",
              "    </tr>\n",
              "  </thead>\n",
              "  <tbody>\n",
              "    <tr>\n",
              "      <th>0</th>\n",
              "      <td>1011010010101011100100111011101101010011101001...</td>\n",
              "      <td>32</td>\n",
              "      <td>32</td>\n",
              "      <td>0</td>\n",
              "    </tr>\n",
              "    <tr>\n",
              "      <th>1</th>\n",
              "      <td>1011010010101011100100111010000101010110011011...</td>\n",
              "      <td>32</td>\n",
              "      <td>32</td>\n",
              "      <td>1</td>\n",
              "    </tr>\n",
              "    <tr>\n",
              "      <th>2</th>\n",
              "      <td>1011010010101011100100111111111001010101110001...</td>\n",
              "      <td>32</td>\n",
              "      <td>32</td>\n",
              "      <td>2</td>\n",
              "    </tr>\n",
              "    <tr>\n",
              "      <th>3</th>\n",
              "      <td>1011010010101011100100110011111100011001101100...</td>\n",
              "      <td>32</td>\n",
              "      <td>32</td>\n",
              "      <td>3</td>\n",
              "    </tr>\n",
              "    <tr>\n",
              "      <th>4</th>\n",
              "      <td>1011010010101011100100110101100100011001101110...</td>\n",
              "      <td>32</td>\n",
              "      <td>32</td>\n",
              "      <td>4</td>\n",
              "    </tr>\n",
              "    <tr>\n",
              "      <th>...</th>\n",
              "      <td>...</td>\n",
              "      <td>...</td>\n",
              "      <td>...</td>\n",
              "      <td>...</td>\n",
              "    </tr>\n",
              "    <tr>\n",
              "      <th>715</th>\n",
              "      <td>01010101001101000101001*********10011011001101...</td>\n",
              "      <td>23</td>\n",
              "      <td>16</td>\n",
              "      <td>715</td>\n",
              "    </tr>\n",
              "    <tr>\n",
              "      <th>716</th>\n",
              "      <td>01010101001101000101001*********01001001000111...</td>\n",
              "      <td>23</td>\n",
              "      <td>16</td>\n",
              "      <td>716</td>\n",
              "    </tr>\n",
              "    <tr>\n",
              "      <th>717</th>\n",
              "      <td>01010101001101000101001*********10110111001010...</td>\n",
              "      <td>23</td>\n",
              "      <td>16</td>\n",
              "      <td>717</td>\n",
              "    </tr>\n",
              "    <tr>\n",
              "      <th>718</th>\n",
              "      <td>01010101001101000101001*********10110110101111...</td>\n",
              "      <td>23</td>\n",
              "      <td>16</td>\n",
              "      <td>718</td>\n",
              "    </tr>\n",
              "    <tr>\n",
              "      <th>719</th>\n",
              "      <td>01010101001101000101001*********10110100101011...</td>\n",
              "      <td>23</td>\n",
              "      <td>16</td>\n",
              "      <td>719</td>\n",
              "    </tr>\n",
              "  </tbody>\n",
              "</table>\n",
              "<p>720 rows × 4 columns</p>\n",
              "</div>"
            ],
            "text/plain": [
              "                                                    IP s_wildCard d_wildCard  \\\n",
              "0    1011010010101011100100111011101101010011101001...         32         32   \n",
              "1    1011010010101011100100111010000101010110011011...         32         32   \n",
              "2    1011010010101011100100111111111001010101110001...         32         32   \n",
              "3    1011010010101011100100110011111100011001101100...         32         32   \n",
              "4    1011010010101011100100110101100100011001101110...         32         32   \n",
              "..                                                 ...        ...        ...   \n",
              "715  01010101001101000101001*********10011011001101...         23         16   \n",
              "716  01010101001101000101001*********01001001000111...         23         16   \n",
              "717  01010101001101000101001*********10110111001010...         23         16   \n",
              "718  01010101001101000101001*********10110110101111...         23         16   \n",
              "719  01010101001101000101001*********10110100101011...         23         16   \n",
              "\n",
              "     rule_number  \n",
              "0              0  \n",
              "1              1  \n",
              "2              2  \n",
              "3              3  \n",
              "4              4  \n",
              "..           ...  \n",
              "715          715  \n",
              "716          716  \n",
              "717          717  \n",
              "718          718  \n",
              "719          719  \n",
              "\n",
              "[720 rows x 4 columns]"
            ]
          },
          "metadata": {
            "tags": []
          },
          "execution_count": 6
        }
      ]
    },
    {
      "cell_type": "markdown",
      "metadata": {
        "id": "-Vbr5-2K4Jnn"
      },
      "source": [
        "##Helper Method to get all rows of the data"
      ]
    },
    {
      "cell_type": "code",
      "metadata": {
        "id": "zZ8JZFG5Wp1I"
      },
      "source": [
        "# helper method to get all rows in the data as a dictionary with the column names as keys\n",
        "def get_data_rows(my_data): \n",
        "  rows =[] \n",
        "  # Iterate over each row \n",
        "  for index, row in my_data.iterrows(): \n",
        "      # Create list for the current row \n",
        "      my_list ={\"IP\":row[\"IP\"],\"s_wildCard\": row[\"s_wildCard\"],\"d_wildCard\":row[\"d_wildCard\"],\"rule_number\":row[\"rule_number\"]}\n",
        "      # append the list to the final list \n",
        "      rows.append(my_list) \n",
        "  return rows\n"
      ],
      "execution_count": null,
      "outputs": []
    },
    {
      "cell_type": "markdown",
      "metadata": {
        "id": "y6UJaBCSKsQ7"
      },
      "source": [
        "# Getting Started with Building our Decision Tree\n",
        "Now that the data is in right form we can use the data and start building out decision tree"
      ]
    },
    {
      "cell_type": "markdown",
      "metadata": {
        "id": "mfMjfClI36pP"
      },
      "source": [
        "##Criteria of maximum information gain\n",
        "First we will we will find the analytical expression of the information gain (IG) for each rule Ri given the bit bj . so we will have the maximum information gain as a cretiria to splitting the data in the most efficient way."
      ]
    },
    {
      "cell_type": "markdown",
      "metadata": {
        "id": "SRoIHCHKVXDJ"
      },
      "source": [
        "### Update number of occurrences for each rule depending on the don't cares \n",
        "We want to update the number of occurrences for each rule depending on the don't cares meaning,if for example, rule x has 2 don't cares we would refer the rule like the data has 2 in the power of the don't cares occurrences of x rule"
      ]
    },
    {
      "cell_type": "code",
      "metadata": {
        "id": "V6OHhxcElEle"
      },
      "source": [
        "def update_counts(rows,bit):\n",
        "  \"\"\"Counts the number of each rule including wildcards\"\"\"\n",
        "  counts = {}  # a dictionary of label -> count.\n",
        "  for row in rows:\n",
        "      num_of_rule=row[\"rule_number\"]  \n",
        "     # the number of wildCard in source IP is 32-number of relavent bits\n",
        "      s_wildCard=32-int(row[\"s_wildCard\"])\n",
        "      # same for dest's wildCard\n",
        "      d_wildCard=32-int(row[\"d_wildCard\"])\n",
        "       # bit is a wild card so given bit we count only half of the wild card\n",
        "      total_wildCard=s_wildCard+d_wildCard\n",
        "      if(bit!='all' and row[\"IP\"][bit]=='*'):\n",
        "        total_wildCard=total_wildCard-1\n",
        "\n",
        "      counts[num_of_rule] =2**total_wildCard\n",
        "  return counts"
      ],
      "execution_count": null,
      "outputs": []
    },
    {
      "cell_type": "markdown",
      "metadata": {
        "id": "bAlyJBYe9h3f"
      },
      "source": [
        "###Compute Entropy for a set of rules\n",
        "We use the formula we learnt in class :\n",
        "lets denote for each rule $R_i$ the number $N_{R_i}=2^{|\\phi|}$ \n",
        "Where $|\\phi|$ is the number of the don't cares.\n",
        "Hence:\n",
        ">$H(R)=-\\sum_{i=0}^n \\frac{N_{R_i}}{N_{total}}\\cdot log_2( \\frac{N_{R_i}}{N_{total}})$\n"
      ]
    },
    {
      "cell_type": "code",
      "metadata": {
        "id": "iF5F-c0tp1Yt"
      },
      "source": [
        "def compute_HR(rows,bit,criteria=\"IG\"):\n",
        "  if(criteria=='IG'):\n",
        "     counts = update_counts(rows,bit)\n",
        "     Ntotal=0\n",
        "     for num in counts:\n",
        "        Ntotal+=counts[num]\n",
        "     HR = 0\n",
        "     for lbl in counts:\n",
        "         prob_of_lbl = counts[lbl] / float(Ntotal)\n",
        "         HR -= prob_of_lbl*math.log2(prob_of_lbl)\n",
        "   \n",
        "  elif(criteria=='entropy'):\n",
        "    #  we want to count the entropy without the effect of wildcards with a given bit\n",
        "     counts = update_counts(rows,-1)\n",
        "     Ntotal=0\n",
        "     for num in counts:\n",
        "        Ntotal+=counts[num]\n",
        "     HR = 0\n",
        "     for lbl in counts:\n",
        "         prob_of_lbl = counts[lbl] / float(Ntotal)\n",
        "         HR -= prob_of_lbl*math.log2(prob_of_lbl)\n",
        "  return HR"
      ],
      "execution_count": null,
      "outputs": []
    },
    {
      "cell_type": "code",
      "metadata": {
        "id": "73D3yX8N2CN5",
        "colab": {
          "base_uri": "https://localhost:8080/",
          "height": 35
        },
        "outputId": "886a5a84-2ee2-444b-f27d-d83fb72313f2"
      },
      "source": [
        "# Check the HR of our set\n",
        "rows=get_data_rows(data)\n",
        "HR=compute_HR(rows,'all')\n",
        "HR"
      ],
      "execution_count": null,
      "outputs": [
        {
          "output_type": "execute_result",
          "data": {
            "text/plain": [
              "1.094003600304795"
            ]
          },
          "metadata": {
            "tags": []
          },
          "execution_count": 34
        }
      ]
    },
    {
      "cell_type": "markdown",
      "metadata": {
        "id": "Q80hHq82AEab"
      },
      "source": [
        "###Compute Information Gain\n",
        "We use the formula we learnt in class :\n",
        ">$IG(R|b_j)=H(R)-H(R|b_j)$\n",
        "\n",
        "When:\n",
        ">$H(R|b_j)=p(b_j=1)\\cdot H(R|b_j =1)+p(b_j=0)\\cdot H(R|b_j =0)$"
      ]
    },
    {
      "cell_type": "code",
      "metadata": {
        "id": "zT7BJEBhfdjq"
      },
      "source": [
        "def info_gain(left, right, HR,bit,take='all'):\n",
        "    \"\"\"Information Gain.\n",
        "    The uncertainty of the starting node, minus the weighted impurity of\n",
        "    two child nodes.\n",
        "    \"\"\"\n",
        "    if(take=='left'):\n",
        "      p=1\n",
        "    elif(take=='right'):\n",
        "      p=0\n",
        "    else:\n",
        "      p=0.5\n",
        "    return HR - p * compute_HR(left,bit) - (1 - p) * compute_HR(right,bit)\n"
      ],
      "execution_count": null,
      "outputs": []
    },
    {
      "cell_type": "markdown",
      "metadata": {
        "id": "ZU9UrM0qLB7O"
      },
      "source": [
        "## Creates a Question class\n",
        "A Question is used to partition a dataset. This class just records a 'bit number' (e.g. bit number 32) and a bit value (e.g., 0 or 1 ). The 'match' method is used to compare the feature value in an example to the feature value stored in the question. See the demo below.\n"
      ]
    },
    {
      "cell_type": "code",
      "metadata": {
        "id": "Jt3K-TTefdi9"
      },
      "source": [
        "class Question:\n",
        "    def __init__(self,bit, value):\n",
        "        self.value = value\n",
        "        self.bit=bit;\n",
        "    \n",
        "    def match(self, example):\n",
        "        # we check if the IP we got in bit self.bit is equals to the value the Quistion got\n",
        "        val=example[\"IP\"][self.bit]\n",
        "        return val == str(self.value)\n",
        "\n",
        "    def __repr__(self):\n",
        "        # This is just a helper method to print\n",
        "        # the question in a readable format.\n",
        "        condition = \"==\"\n",
        "        return \"Is IP in bit %s %s %s?\" % (\n",
        "            self.bit, condition, str(self.value))"
      ],
      "execution_count": null,
      "outputs": []
    },
    {
      "cell_type": "code",
      "metadata": {
        "id": "VH7zkxenNvIh",
        "colab": {
          "base_uri": "https://localhost:8080/",
          "height": 159
        },
        "outputId": "0e0ee267-ad05-4201-f503-6bb3b9becf31"
      },
      "source": [
        "# Test if we build the Questions correctly\n",
        "# Let's write a question\n",
        "q=Question(0,1)\n",
        "print(\"Question:\",q)\n",
        "# get rows from the data\n",
        "rows=get_data_rows(data)\n",
        "# choose the first row to be the example\n",
        "example=rows[0]\n",
        "print(\"example row: \",example)\n",
        "print(\"Match result: \",q.match(example))\n",
        "print(\"\\n\")\n",
        "example=rows[3]\n",
        "q=Question(0,0)\n",
        "print(\"Question:\",q)\n",
        "print(\"example row: \",example)\n",
        "print(\"Match result: \",q.match(example))"
      ],
      "execution_count": null,
      "outputs": [
        {
          "output_type": "stream",
          "text": [
            "Question: Is IP in bit 0 == 1?\n",
            "example row:  {'IP': '1011010010101011100100111011101101010011101001110110111010011010', 's_wildCard': '32', 'd_wildCard': '32', 'rule_number': 0}\n",
            "Match result:  True\n",
            "\n",
            "\n",
            "Question: Is IP in bit 0 == 0?\n",
            "example row:  {'IP': '1011010010101011100100110011111100011001101100101000011101010110', 's_wildCard': '32', 'd_wildCard': '32', 'rule_number': 3}\n",
            "Match result:  False\n"
          ],
          "name": "stdout"
        }
      ]
    },
    {
      "cell_type": "markdown",
      "metadata": {
        "id": "gLULllS4Nqn0"
      },
      "source": [
        "## Partitions the dataset\n",
        "For each row in the dataset, check if it matches the question. If so, add it to 'true rows', otherwise, add it to 'false rows'.\n"
      ]
    },
    {
      "cell_type": "code",
      "metadata": {
        "id": "cRJvxbYlWkZX"
      },
      "source": [
        "def partition(rows, question):\n",
        "    true_rows, false_rows = [], []\n",
        "    for row in rows:\n",
        "        if question.match(row):\n",
        "            true_rows.append(row)\n",
        "        else:\n",
        "            false_rows.append(row)\n",
        "    return true_rows, false_rows"
      ],
      "execution_count": null,
      "outputs": []
    },
    {
      "cell_type": "code",
      "metadata": {
        "id": "AFOfbZMEfdjy",
        "colab": {
          "base_uri": "https://localhost:8080/",
          "height": 52
        },
        "outputId": "607e7bc0-6b1d-4523-eef4-f9d433e65503"
      },
      "source": [
        "#checks the partition anf information gain for different questions:\n",
        "rows=get_data_rows(data)\n",
        "bit1=4\n",
        "q1=Question(bit1,1)\n",
        "HR=compute_HR(rows,'all')\n",
        "true_rows, false_rows = partition(rows,q1)\n",
        "print(\"iformation gain to question\",q1,\": \", info_gain(true_rows, false_rows, HR,bit1))\n",
        "bit2=19\n",
        "q2=Question(bit2,0)\n",
        "true_rows, false_rows = partition(rows,q2)\n",
        "print(\"iformation gain to question\",q2,\": \", info_gain(true_rows, false_rows, HR,bit2))\n"
      ],
      "execution_count": null,
      "outputs": [
        {
          "output_type": "stream",
          "text": [
            "iformation gain to question Is IP in bit 4 == 1? :  0.525750026229028\n",
            "iformation gain to question Is IP in bit 19 == 0? :  0.5469975814466264\n"
          ],
          "name": "stdout"
        }
      ]
    },
    {
      "cell_type": "markdown",
      "metadata": {
        "id": "9JwSAL1gEzjx"
      },
      "source": [
        "### Find Best Question to split The data\n",
        "we use different critirias of spliting- we iterate over all values of bits , calculate the gain according the cretiria and find the best question to ask in the current stage by the optimum critetia.\n",
        "\n",
        "\n",
        "possible criterias:\n",
        "*   IG_best_branch\n",
        "*   IG_best_level\n",
        "*   entropy_best_branch\n",
        "*   entropy_best_level\n",
        "\n",
        "\n",
        "\n"
      ]
    },
    {
      "cell_type": "code",
      "metadata": {
        "id": "qswFp4AzfdkL"
      },
      "source": [
        "def find_best_split(rows,criterita=\"IG_best_level\"):\n",
        "    \"\"\"Find the best question to ask by iterating over every feature / value\n",
        "    and calculating the information gain.\"\"\"\n",
        "    best_gain = 0  # keep track of the best information gain\n",
        "    best_question = None  # keep train of the feature / value that produced it\n",
        "    current_uncertainty = compute_HR(rows,-1)\n",
        "    n_features =64  # number of columns  \n",
        "    values={0,1}\n",
        "    for bit in range(n_features):  # for each feature\n",
        "      for val in values:  # for each value\n",
        "        question = Question(bit,val)\n",
        "        # print(question,bit,val)\n",
        "        true_rows, false_rows = partition(rows,question)\n",
        "        # print (true_rows)\n",
        "        if len(true_rows) == 0 or len(false_rows) == 0:\n",
        "              continue\n",
        "        \n",
        "        # 1.3.1 For each branch in the tree you take the best bit, so different branches may use\n",
        "        # different sequences of bits\n",
        "        if(criterita=='IG_best_branch'):      \n",
        "          gain_left = info_gain(true_rows, false_rows, current_uncertainty,bit,'left')\n",
        "          gain_right = info_gain(true_rows, false_rows, current_uncertainty,bit,'right')\n",
        "          gain=gain_left if gain_left>gain_right else gain_left\n",
        "        \n",
        "        # 1.3.2.Branches at the same level will use the bit that provides the best IG among all the\n",
        "        # tested bits, so all paths will use the same order of bits\n",
        "        elif(criterita=='IG_best_level'):      \n",
        "          gain = info_gain(true_rows, false_rows, current_uncertainty,bit)\n",
        "        \n",
        "        # criteria is changed so the bit with the highest entropy is selected \n",
        "        # the best bit for each branch \n",
        "        elif(criterita=='entropy_best_branch'):\n",
        "          best_bit_true=compute_HR(true_rows,bit)\n",
        "          best_bit_false=compute_HR(false_rows,bit)\n",
        "          gain=best_bit_true if best_bit_true>best_bit_false else best_bit_false\n",
        "        \n",
        "        # bit for ll branches\n",
        "        elif(criterita=='entropy_best_level'):\n",
        "          gain=compute_HR(rows,bit)\n",
        "      \n",
        "\n",
        "        if gain >= best_gain:\n",
        "              best_gain, best_question = gain, question\n",
        "    \n",
        "    return best_gain, best_question"
      ],
      "execution_count": null,
      "outputs": []
    },
    {
      "cell_type": "code",
      "metadata": {
        "id": "uDp6x4SCfdkO",
        "colab": {
          "base_uri": "https://localhost:8080/",
          "height": 35
        },
        "outputId": "8832cb51-9092-42ad-f267-94008886b024"
      },
      "source": [
        "#Demo- lets find the best question to ask first , with creteria IG_best_level\n",
        "rows=get_data_rows(data)\n",
        "best_gain, best_question = find_best_split(rows,'IG_best_level')\n",
        "print(best_question)"
      ],
      "execution_count": null,
      "outputs": [
        {
          "output_type": "stream",
          "text": [
            "Is IP in bit 19 == 0?\n"
          ],
          "name": "stdout"
        }
      ]
    },
    {
      "cell_type": "markdown",
      "metadata": {
        "id": "GcJxj-cqGJJq"
      },
      "source": [
        "## Building Decision tree\n",
        "In this section, I created all the classess and method for creating the decision tree, and display it"
      ]
    },
    {
      "cell_type": "markdown",
      "metadata": {
        "id": "B9DhIUl9Gd4c"
      },
      "source": [
        "### Classes of decision tree"
      ]
    },
    {
      "cell_type": "code",
      "metadata": {
        "id": "zb_syHvnfdkR"
      },
      "source": [
        "class Leaf:\n",
        "    def __init__(self, rows):\n",
        "        self.predictions = update_counts(rows,-1)\n",
        "    \n",
        "    def height(self):\n",
        "      return 1"
      ],
      "execution_count": null,
      "outputs": []
    },
    {
      "cell_type": "code",
      "metadata": {
        "id": "4WVkfuEsfdkV"
      },
      "source": [
        "class Decision_Node:\n",
        "    \"\"\"A Decision Node asks a question.\n",
        "\n",
        "    This holds a reference to the question, and to the two child nodes.\n",
        "    \"\"\"\n",
        "    def __init__(self,\n",
        "                 question,\n",
        "                 true_branch,\n",
        "                 false_branch):\n",
        "        self.question = question\n",
        "        self.true_branch = true_branch\n",
        "        self.false_branch = false_branch\n",
        "      \n",
        "    def height(self):\n",
        "      left_depth = self.true_branch.height()\n",
        "      right_depth = self.false_branch.height() \n",
        "      return max(left_depth, right_depth) + 1\n",
        "    "
      ],
      "execution_count": null,
      "outputs": []
    },
    {
      "cell_type": "markdown",
      "metadata": {
        "id": "iDaEyf8IGlhQ"
      },
      "source": [
        "### Methods for decision tree"
      ]
    },
    {
      "cell_type": "code",
      "metadata": {
        "id": "ilrei41efdkY"
      },
      "source": [
        "def build_tree(rows,stopping_point,criteria):\n",
        "    \"\"\"Builds the tree.\n",
        "    Rules of recursion: 1) Believe that it works. 2) Start by checking\n",
        "    for the base case (no further information gain). 3) Prepare for\n",
        "    giant stack traces.\n",
        "    \"\"\"\n",
        "    # Try partitioing the dataset on each of the unique attribute,\n",
        "    # calculate the information gain,\n",
        "    # and return the question that produces the highest gain.\n",
        "    gain, question = find_best_split(rows,criteria)\n",
        "\n",
        "    # Base case: no further info gain\n",
        "    # Since we can ask no further questions,\n",
        "    # we'll return a leaf.\n",
        "    if gain == 0:\n",
        "        return Leaf(rows)\n",
        " \n",
        "    true_rows, false_rows = partition(rows, question)\n",
        "    true_branch= Leaf(true_rows) if (len(true_rows)<=stopping_point) else build_tree(true_rows,stopping_point,criteria)\n",
        "    false_branch=Leaf(false_rows) if (len(false_rows)<=stopping_point) else build_tree(false_rows,stopping_point,criteria)\n",
        "    return Decision_Node(question, true_branch, false_branch)"
      ],
      "execution_count": null,
      "outputs": []
    },
    {
      "cell_type": "code",
      "metadata": {
        "id": "nFqj_rOjfdka"
      },
      "source": [
        "def print_tree(node, spacing=\"\"):\n",
        "    \"\"\"World's most elegant tree printing function.\"\"\"\n",
        "    # Base case: we've reached a leaf\n",
        "    if isinstance(node, Leaf):\n",
        "        print (spacing + \"Predict: {Rule number,number of accur} \", node.predictions)\n",
        "        return\n",
        "\n",
        "    # Print the question at this node\n",
        "    print (spacing + str(node.question))\n",
        "\n",
        "    # Call this function recursively on the true branch\n",
        "    print (spacing + '--> True:')\n",
        "    print_tree(node.true_branch, spacing + \"  \")\n",
        "\n",
        "    # Call this function recursively on the false branch\n",
        "    print (spacing + '--> False:')\n",
        "    print_tree(node.false_branch, spacing + \"  \")"
      ],
      "execution_count": null,
      "outputs": []
    },
    {
      "cell_type": "code",
      "metadata": {
        "id": "liEbV3R0fdkd",
        "colab": {
          "base_uri": "https://localhost:8080/",
          "height": 515
        },
        "outputId": "f38ded26-9de8-4a76-88b2-58a2ef3131f9"
      },
      "source": [
        "rows=get_data_rows(data)\n",
        "criterias=['IG_best_branch','IG_best_level','entropy_best_branch','entropy_best_level']\n",
        "for criteria in criterias:\n",
        "  # stopping point -1 means no stopping point\n",
        "  my_tree= build_tree(rows,-1,criteria)\n",
        "  print([\"criteria\",criteria,\"my_tree depth:\",my_tree.height()])\n",
        "  my_tree_16= build_tree(rows,16,criteria)\n",
        "  print([\"criteria\",criteria,\"my_tree_16 depth:\",my_tree_16.height()])\n",
        "  my_tree_32= build_tree(rows,32,criteria)\n",
        "  print([\"criteria\",criteria,\"my_tree_32 depth:\",my_tree_32.height()])\n",
        "  my_tree_64= build_tree(rows,64,criteria)\n",
        "  print([\"criteria\",criteria,\"my_tree_64 depth:\",my_tree_64.height()])\n",
        "  my_tree_96= build_tree(rows,96,criteria)\n",
        "  print([\"criteria\",criteria,\"my_tree_96 depth:\",my_tree_96.height()])\n",
        "  my_tree_128= build_tree(rows,128,criteria)\n",
        "  print([\"criteria\",criteria,\"my_tree_128 depth:\",my_tree_128.height()])\n",
        "  print(\"---------------------------------------------------------\")\n",
        "  # print_tree(my_tree)\n",
        "  # print(\"---------------------------------------------------------\")\n"
      ],
      "execution_count": null,
      "outputs": [
        {
          "output_type": "stream",
          "text": [
            "['criteria', 'IG_best_branch', 'my_tree depth:', 27]\n",
            "['criteria', 'IG_best_branch', 'my_tree_16 depth:', 26]\n",
            "['criteria', 'IG_best_branch', 'my_tree_32 depth:', 25]\n",
            "['criteria', 'IG_best_branch', 'my_tree_64 depth:', 19]\n",
            "['criteria', 'IG_best_branch', 'my_tree_96 depth:', 19]\n",
            "['criteria', 'IG_best_branch', 'my_tree_128 depth:', 15]\n",
            "---------------------------------------------------------\n",
            "['criteria', 'IG_best_level', 'my_tree depth:', 19]\n",
            "['criteria', 'IG_best_level', 'my_tree_16 depth:', 11]\n",
            "['criteria', 'IG_best_level', 'my_tree_32 depth:', 7]\n",
            "['criteria', 'IG_best_level', 'my_tree_64 depth:', 5]\n",
            "['criteria', 'IG_best_level', 'my_tree_96 depth:', 5]\n",
            "['criteria', 'IG_best_level', 'my_tree_128 depth:', 5]\n",
            "---------------------------------------------------------\n",
            "['criteria', 'entropy_best_branch', 'my_tree depth:', 27]\n",
            "['criteria', 'entropy_best_branch', 'my_tree_16 depth:', 26]\n",
            "['criteria', 'entropy_best_branch', 'my_tree_32 depth:', 24]\n",
            "['criteria', 'entropy_best_branch', 'my_tree_64 depth:', 20]\n",
            "['criteria', 'entropy_best_branch', 'my_tree_96 depth:', 17]\n",
            "['criteria', 'entropy_best_branch', 'my_tree_128 depth:', 15]\n",
            "---------------------------------------------------------\n",
            "['criteria', 'entropy_best_level', 'my_tree depth:', 25]\n",
            "['criteria', 'entropy_best_level', 'my_tree_16 depth:', 18]\n",
            "['criteria', 'entropy_best_level', 'my_tree_32 depth:', 13]\n",
            "['criteria', 'entropy_best_level', 'my_tree_64 depth:', 8]\n",
            "['criteria', 'entropy_best_level', 'my_tree_96 depth:', 8]\n",
            "['criteria', 'entropy_best_level', 'my_tree_128 depth:', 7]\n",
            "---------------------------------------------------------\n"
          ],
          "name": "stdout"
        }
      ]
    },
    {
      "cell_type": "code",
      "metadata": {
        "id": "92TZYMQ5csSd"
      },
      "source": [
        "# Demo - example for decision tree\n",
        "rows=get_data_rows(data)\n",
        "criterias=['IG_best_branch','IG_best_level','entropy_best_branch','entropy_best_level']\n",
        "criteria='IG_best_level'\n",
        "my_tree_16= build_tree(rows,16,criteria)\n",
        "print([\"criteria\",criteria,\"my_tree_16:\"])\n",
        "print_tree(my_tree_16)\n",
        "print(\"---------------------------------------------------------\")\n",
        " \n"
      ],
      "execution_count": null,
      "outputs": []
    },
    {
      "cell_type": "code",
      "metadata": {
        "id": "7xxQmM9Bfdko"
      },
      "source": [
        "def classify(row, node):\n",
        "    \"\"\"See the 'rules of recursion' above.\"\"\"\n",
        "    # Base case: we've reached a leaf\n",
        "    if isinstance(node, Leaf):\n",
        "        return node.predictions\n",
        "    # Decide whether to follow the true-branch or the false-branch.\n",
        "    # Compare the feature / value stored in the node,\n",
        "    # to the example we're considering.\n",
        "    if node.question.match(row):\n",
        "        return classify(row, node.true_branch)\n",
        "    else:\n",
        "        return classify(row, node.false_branch)"
      ],
      "execution_count": null,
      "outputs": []
    },
    {
      "cell_type": "code",
      "metadata": {
        "id": "5dGDG86Gfdkx"
      },
      "source": [
        "def print_leaf(counts):\n",
        "    \n",
        "    \"\"\"A nicer way to print the predictions at a leaf.\"\"\"\n",
        "    total = sum(counts.values()) * 1.0\n",
        "    probs = {}\n",
        "    for lbl in counts.keys():\n",
        "        if(int(counts[lbl] / total * 100)!=0):\n",
        "          probs[lbl] = str(int(counts[lbl] / total * 100)) + \"%\"\n",
        "    return probs"
      ],
      "execution_count": null,
      "outputs": []
    },
    {
      "cell_type": "code",
      "metadata": {
        "id": "nS0WkYUrfdk0",
        "colab": {
          "base_uri": "https://localhost:8080/",
          "height": 677
        },
        "outputId": "9102c99f-6458-4c67-e7a7-50e726c31272"
      },
      "source": [
        "rows=get_data_rows(data)\n",
        "great_indexes=[0,92,108,109,200,600]\n",
        "for index in great_indexes:\n",
        "  print(\"try to predict rule number:\",index)\n",
        "  print(print_leaf(classify(rows[index], my_tree)))\n",
        "\n",
        "print(\"-----------------------------------------------\")\n",
        "\n",
        "medium_indexes=[1,14,15,17,40,45]\n",
        "for index in medium_indexes:\n",
        "  print(\"try to predict rule number:\",index)\n",
        "  print(print_leaf(classify(rows[index], my_tree)))\n",
        "\n",
        "print(\"-----------------------------------------------\")\n",
        "low_indexes=[10,20,30,100,500]\n",
        "for index in low_indexes:\n",
        "  print(\"try to predict rule number:\",index)\n",
        "  print(print_leaf(classify(rows[index], my_tree)))\n",
        "\n",
        "#######"
      ],
      "execution_count": null,
      "outputs": [
        {
          "output_type": "stream",
          "text": [
            "try to predict rule number: 0\n",
            "{0: '100%'}\n",
            "try to predict rule number: 92\n",
            "{92: '100%'}\n",
            "try to predict rule number: 108\n",
            "{108: '100%'}\n",
            "try to predict rule number: 109\n",
            "{109: '100%'}\n",
            "try to predict rule number: 200\n",
            "{200: '100%'}\n",
            "try to predict rule number: 600\n",
            "{600: '100%'}\n",
            "-----------------------------------------------\n",
            "try to predict rule number: 1\n",
            "{1: '50%', 513: '50%'}\n",
            "try to predict rule number: 14\n",
            "{14: '50%', 15: '50%'}\n",
            "try to predict rule number: 15\n",
            "{14: '50%', 15: '50%'}\n",
            "try to predict rule number: 17\n",
            "{17: '50%', 130: '50%'}\n",
            "try to predict rule number: 40\n",
            "{40: '25%', 41: '25%', 300: '25%', 484: '25%'}\n",
            "try to predict rule number: 45\n",
            "{45: '33%', 46: '33%', 516: '33%'}\n",
            "-----------------------------------------------\n",
            "try to predict rule number: 10\n",
            "{8: '9%', 10: '9%', 85: '9%', 94: '9%', 104: '9%', 249: '9%', 267: '9%', 287: '9%', 297: '9%', 537: '9%', 539: '9%'}\n",
            "try to predict rule number: 20\n",
            "{20: '7%', 22: '7%', 23: '7%', 142: '7%', 143: '7%', 144: '7%', 146: '7%', 147: '7%', 148: '7%', 149: '7%', 256: '7%', 275: '7%', 498: '7%'}\n",
            "try to predict rule number: 30\n",
            "{30: '10%', 169: '10%', 171: '10%', 172: '10%', 235: '10%', 259: '10%', 266: '10%', 314: '10%', 500: '10%', 573: '10%'}\n",
            "try to predict rule number: 100\n",
            "{7: '4%', 9: '4%', 86: '4%', 87: '4%', 88: '4%', 90: '4%', 91: '4%', 93: '4%', 95: '4%', 96: '4%', 98: '4%', 99: '4%', 100: '4%', 101: '4%', 102: '4%', 103: '4%', 105: '4%', 250: '4%', 273: '4%', 298: '4%', 309: '4%', 310: '4%', 311: '4%', 493: '4%', 538: '4%'}\n",
            "try to predict rule number: 500\n",
            "{30: '10%', 169: '10%', 171: '10%', 172: '10%', 235: '10%', 259: '10%', 266: '10%', 314: '10%', 500: '10%', 573: '10%'}\n"
          ],
          "name": "stdout"
        }
      ]
    }
  ]
}